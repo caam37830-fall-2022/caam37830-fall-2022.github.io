{
 "cells": [
  {
   "cell_type": "markdown",
   "metadata": {},
   "source": [
    "# Basic Containers and Packages\n",
    "\n",
    "## Python Lists\n",
    "\n",
    "Lists are a data structure provided as part of the Python language.\n",
    "[Lists](https://docs.python.org/3/tutorial/introduction.html#lists) and [more on lists.](https://docs.python.org/3/tutorial/datastructures.html#more-on-lists).\n",
    "\n",
    "A list is compound data type which is a *mutable*, *indexed*, and *ordered* collection of data.\n",
    "\n",
    "Lists are often constructed using square brackets: `[...]`"
   ]
  },
  {
   "cell_type": "code",
   "execution_count": null,
   "metadata": {},
   "outputs": [],
   "source": [
    "x0 = [1, 2, 3] # list of numbers\n",
    "print(x0)\n",
    "print(type(x0))"
   ]
  },
  {
   "cell_type": "code",
   "execution_count": null,
   "metadata": {},
   "outputs": [],
   "source": [
    "x1 = ['hello', 'world'] # list of strings\n",
    "print(x1)\n",
    "print(type(x1))"
   ]
  },
  {
   "cell_type": "code",
   "execution_count": null,
   "metadata": {},
   "outputs": [],
   "source": [
    "x = [x0, x1] # list of lists\n",
    "print(x)\n",
    "print(type(x))"
   ]
  },
  {
   "cell_type": "markdown",
   "metadata": {},
   "source": [
    "Usually lists will be generated programatically.  One way you can do this is by using the `append` method"
   ]
  },
  {
   "cell_type": "code",
   "execution_count": null,
   "metadata": {},
   "outputs": [],
   "source": [
    "x = [] # empty list\n",
    "for i in range(5):\n",
    "    x.append(i)\n",
    "x"
   ]
  },
  {
   "cell_type": "markdown",
   "metadata": {},
   "source": [
    "or the `extend` method, which appends all elements in another list"
   ]
  },
  {
   "cell_type": "code",
   "execution_count": null,
   "metadata": {},
   "outputs": [],
   "source": [
    "x = [1,2,3]\n",
    "y = [4,5,6]\n",
    "x.extend(y) # extends x by y\n",
    "x"
   ]
  },
  {
   "cell_type": "markdown",
   "metadata": {},
   "source": [
    "You can also generate lists using [list comprehensions](https://docs.python.org/3/tutorial/datastructures.html#list-comprehensions).  Comprehensions are \"Pythonic\" which is a vauge term roughly meaning \n",
    "\n",
    "Pythonic: \"something a Python programmer would write\""
   ]
  },
  {
   "cell_type": "code",
   "execution_count": null,
   "metadata": {},
   "outputs": [],
   "source": [
    "x = [i for i in range(5)]\n",
    "x"
   ]
  },
  {
   "cell_type": "code",
   "execution_count": null,
   "metadata": {},
   "outputs": [],
   "source": [
    "x = [i * i for i in range(5)]\n",
    "x"
   ]
  },
  {
   "cell_type": "markdown",
   "metadata": {},
   "source": [
    "Generally, comprehensions consist of `[expression loop conditional]`\n",
    "\n",
    "This looks a lot like set notation in mathematics.  E.g. for the set\n",
    "$$y = \\{i \\mid i \\in x, i \\ne 4\\}$$\n",
    "we compute"
   ]
  },
  {
   "cell_type": "code",
   "execution_count": null,
   "metadata": {},
   "outputs": [],
   "source": [
    "y = [i for i in x if i != 4]\n",
    "y"
   ]
  },
  {
   "cell_type": "markdown",
   "metadata": {},
   "source": [
    "### Indexing\n",
    "\n",
    "Python is 0-indexed (like C, unlike fortran/Matlab).  This means a list of length `n` will have indices that start at `0`, and end at `n-1`.\n",
    "\n",
    "This is the reason why `range(n)` iterates through the range `0,...,n-1`"
   ]
  },
  {
   "cell_type": "code",
   "execution_count": null,
   "metadata": {},
   "outputs": [],
   "source": [
    "words = [\"dog\", \"cat\", \"house\"]\n",
    "print(words[0])\n",
    "print(words[1])"
   ]
  },
  {
   "cell_type": "markdown",
   "metadata": {},
   "source": [
    "you can access elements starting at the back of the array using negative integers.  A good way to think of this is the index `-1` translates to `n-1`"
   ]
  },
  {
   "cell_type": "code",
   "execution_count": null,
   "metadata": {},
   "outputs": [],
   "source": [
    "print(words[-1])\n",
    "print(words[-2])"
   ]
  },
  {
   "cell_type": "markdown",
   "metadata": {},
   "source": [
    "**Slicing** - you can use the colon character `:` to slice an array. The syntax is `start:end:stride`"
   ]
  },
  {
   "cell_type": "code",
   "execution_count": null,
   "metadata": {},
   "outputs": [],
   "source": [
    "x = [i for i in range(10)]\n",
    "print(x)\n",
    "print(x[:])\n",
    "print(x[2:4])\n",
    "print(x[2:9:3])\n",
    "print(x[-3:-1])\n",
    "print(x[::2])\n",
    "print(x[::3])\n",
    "print(x[::-1])"
   ]
  },
  {
   "cell_type": "markdown",
   "metadata": {},
   "source": [
    "Lists are *mutable*, which means you can change elements"
   ]
  },
  {
   "cell_type": "code",
   "execution_count": null,
   "metadata": {},
   "outputs": [],
   "source": [
    "words = [\"dog\", \"cat\", \"house\"]\n",
    "print(words)\n",
    "\n",
    "words[0] = \"mouse\"\n",
    "print(words)"
   ]
  },
  {
   "cell_type": "markdown",
   "metadata": {},
   "source": [
    "## Other Python Collections\n",
    "\n",
    "There are other collections you might use in Python:\n",
    "\n",
    "* **Tuples** `(...)` are ordered, indexed, and immutable\n",
    "* **Sets** `{...}` are unordered, unindexed, and mutable\n",
    "* **Dictionaries** `{...}` are unordered, indexed, and mutable\n",
    "\n",
    "These collections also support comprehensions.\n",
    "\n",
    "You can find additional types of collections in the [Collections module](https://docs.python.org/3.8/library/collections.html)"
   ]
  },
  {
   "cell_type": "code",
   "execution_count": null,
   "metadata": {},
   "outputs": [],
   "source": [
    "x = (1,2,3) # tuple\n",
    "print(x)\n",
    "x = (i for i in range(1,4)) # tuple comprehension\n",
    "print(x) # we get a generator object as an output\n",
    "print(tuple(x))"
   ]
  },
  {
   "cell_type": "code",
   "execution_count": null,
   "metadata": {},
   "outputs": [],
   "source": [
    "s = {1,2,3} # set\n",
    "1 in s"
   ]
  },
  {
   "cell_type": "code",
   "execution_count": null,
   "metadata": {},
   "outputs": [],
   "source": [
    "s = {i for i in range(1,4)}\n",
    "s"
   ]
  },
  {
   "cell_type": "code",
   "execution_count": null,
   "metadata": {},
   "outputs": [],
   "source": [
    "d = {'hello' : 0, 'goodbye': 1} # dictionary\n",
    "print(type(d))\n",
    "d['hello']"
   ]
  },
  {
   "cell_type": "markdown",
   "metadata": {},
   "source": [
    "Dictionaries have key/value pairs. In the above example, `'hello'` is the key, `'0'` is the value."
   ]
  },
  {
   "cell_type": "code",
   "execution_count": null,
   "metadata": {},
   "outputs": [],
   "source": [
    "d = {key: val for val, key in enumerate(['hello', 'goodbye'])}\n",
    "d"
   ]
  },
  {
   "cell_type": "markdown",
   "metadata": {},
   "source": [
    "## Numpy\n",
    "\n",
    "If you haven't already:\n",
    "```bash\n",
    "conda install numpy\n",
    "```\n",
    "\n",
    "[Numpy](https://numpy.org/) is perhaps *the* fundamental scientific computing package for Python - just about every other package for scientific computing uses it.\n",
    "\n",
    "Numpy basically provides a `ndarray` type (n-dimensional array), and provides fast operations for arrays (i.e. compiled C or Fortran).\n",
    "\n",
    "We'll do some deeper dives into numpy in future lectures.  For now, we'll cover some basics.  For those who want to dive in now, here are some tutorials\n",
    "* [Absolute Beginner Tutorial](https://numpy.org/doc/1.19/user/absolute_beginners.html)\n",
    "* [Quickstart Tutorial](https://numpy.org/doc/1.19/user/quickstart.html) - for those with more experience in other languages\n",
    "\n",
    "You can find lots of information in the [numpy documentation](https://numpy.org/doc/1.19/)"
   ]
  },
  {
   "cell_type": "code",
   "execution_count": null,
   "metadata": {},
   "outputs": [],
   "source": [
    "import numpy as np # import numpy into the np namespace"
   ]
  },
  {
   "cell_type": "markdown",
   "metadata": {},
   "source": [
    "You can easily generate numpy arrays from `list` data"
   ]
  },
  {
   "cell_type": "code",
   "execution_count": null,
   "metadata": {},
   "outputs": [],
   "source": [
    "x = np.array([1,2,3])\n",
    "print(x)\n",
    "print(type(x))"
   ]
  },
  {
   "cell_type": "markdown",
   "metadata": {},
   "source": [
    "A 2-dimensional array can be generated by lists of lists"
   ]
  },
  {
   "cell_type": "code",
   "execution_count": null,
   "metadata": {},
   "outputs": [],
   "source": [
    "x = np.array([[1,2,3], [4,5,6]])\n",
    "print(x)"
   ]
  },
  {
   "cell_type": "markdown",
   "metadata": {},
   "source": [
    "a few class members:"
   ]
  },
  {
   "cell_type": "code",
   "execution_count": null,
   "metadata": {},
   "outputs": [],
   "source": [
    "print(x.ndim) # number of dimensions\n",
    "print(x.shape) # shape of array\n",
    "print(x.size) # total number of elements in array\n",
    "print(x.dtype) # data type\n",
    "print(x.itemsize) # number of bytes for data type\n",
    "print(x.data) # buffer location in memory\n",
    "print(x.flags) # some flags"
   ]
  },
  {
   "cell_type": "markdown",
   "metadata": {},
   "source": [
    "Other ways of obtaining numpy arrays:"
   ]
  },
  {
   "cell_type": "code",
   "execution_count": null,
   "metadata": {},
   "outputs": [],
   "source": [
    "# array from a range\n",
    "a = np.arange(3)\n",
    "print(a)\n",
    "\n",
    "# an array of 1\n",
    "a = np.ones((3,2), dtype=float)\n",
    "print(a)\n",
    "\n",
    "# just an array with no initialization - WARNING: data can be anything\n",
    "a = np.empty((3,2), dtype=float)\n",
    "print(a)\n",
    "\n",
    "# random normal data\n",
    "a = np.random.normal(size=(3,2))\n",
    "print(a)"
   ]
  },
  {
   "cell_type": "markdown",
   "metadata": {},
   "source": [
    "### Indexing\n",
    "1-dimensional arrays are indexed in the same way as lists (0-indexed, can use slices, etc)"
   ]
  },
  {
   "cell_type": "code",
   "execution_count": null,
   "metadata": {},
   "outputs": [],
   "source": [
    "a = np.arange(4)\n",
    "print(a[:2]) "
   ]
  },
  {
   "cell_type": "markdown",
   "metadata": {},
   "source": [
    "you can also index using lists of indices"
   ]
  },
  {
   "cell_type": "code",
   "execution_count": null,
   "metadata": {},
   "outputs": [],
   "source": [
    "inds = [0,2]\n",
    "a[inds] "
   ]
  },
  {
   "cell_type": "markdown",
   "metadata": {},
   "source": [
    "2-dimensional arrays are a bit different from lists of lists:"
   ]
  },
  {
   "cell_type": "code",
   "execution_count": null,
   "metadata": {},
   "outputs": [],
   "source": [
    "a = [[0,1],[2,3]] # list of lists\n",
    "print(a)\n",
    "a[1][1] # like indexing in C"
   ]
  },
  {
   "cell_type": "code",
   "execution_count": null,
   "metadata": {},
   "outputs": [],
   "source": [
    "anp = np.array(a) # 2-dimensional array\n",
    "anp[1,1] # like indexing in Matlab, Julia"
   ]
  },
  {
   "cell_type": "markdown",
   "metadata": {},
   "source": [
    "you can also use slices, index sets, etc. in multi-dimensional arrays.\n",
    "\n",
    "If you only provide 1 index, you'll get the corresponding row (or set of rows if slicing)"
   ]
  },
  {
   "cell_type": "code",
   "execution_count": null,
   "metadata": {},
   "outputs": [],
   "source": [
    "anp[0]"
   ]
  },
  {
   "cell_type": "markdown",
   "metadata": {},
   "source": [
    "### Arithmetic\n",
    "\n",
    "Numpy arrays support basic element-wise arithmetic, assuming arrays are the same shape.\n",
    "\n",
    "Note: there are more complicated [broadcasting rules](https://numpy.org/doc/1.19/user/basics.broadcasting.html) for different-shaped arrays, which we'll cover some other time."
   ]
  },
  {
   "cell_type": "code",
   "execution_count": null,
   "metadata": {},
   "outputs": [],
   "source": [
    "x = np.arange(4)\n",
    "print(x)\n",
    "print(x + x)\n",
    "print(x * x)\n",
    "print(x**3)"
   ]
  },
  {
   "cell_type": "markdown",
   "metadata": {},
   "source": [
    "**Warning**: The `*` operator applied to 2-dimensional arrays is not the same as matrix-matrix multiplication.  It will perform element-wise multiplication instead.\n",
    "\n",
    "Numpy provides the `@` operator for matrix multiplication.  You can also use the `matmul()` or `dot()` (dot product) methods."
   ]
  },
  {
   "cell_type": "code",
   "execution_count": null,
   "metadata": {},
   "outputs": [],
   "source": [
    "x = np.arange(4).reshape(2,2)\n",
    "print(x)\n",
    "print(x*x)\n",
    "print(x @ x)\n",
    "print(x.dot(x))\n",
    "print(np.matmul(x,x))"
   ]
  },
  {
   "cell_type": "code",
   "execution_count": null,
   "metadata": {},
   "outputs": [],
   "source": [
    "np.dot?"
   ]
  },
  {
   "cell_type": "markdown",
   "metadata": {},
   "source": [
    "Numpy provides a variety of mathematics functions that you can use with numpy arrays.  Numpy is *vectorized*, meaning that it is typically much faster to perform array operations than to use explicit for loops.  This should be a familiar concept to Matlab users."
   ]
  },
  {
   "cell_type": "code",
   "execution_count": null,
   "metadata": {},
   "outputs": [],
   "source": [
    "np.sin(x)"
   ]
  },
  {
   "cell_type": "code",
   "execution_count": null,
   "metadata": {},
   "outputs": [],
   "source": [
    "import time\n",
    "n = 1_000_000\n",
    "# list data\n",
    "x = [i/n for i in range(n)]\n",
    "# numpy array\n",
    "xnp = np.array(x)\n",
    "\n",
    "# square elements in-place\n",
    "t0 = time.time()\n",
    "for i in range(n):\n",
    "    x[i] = x[i] * x[i]\n",
    "t1 = time.time()\n",
    "print(\"time for loop over list: {:.3} sec.\".format(t1 - t0))\n",
    "\n",
    "t0 = time.time()\n",
    "xnp = xnp * xnp\n",
    "t1 = time.time()\n",
    "print(\"time for numpy vectorization: {:.3} sec.\".format(t1 - t0))"
   ]
  },
  {
   "cell_type": "markdown",
   "metadata": {},
   "source": [
    "## PyPlot\n",
    "\n",
    "[PyPlot](https://matplotlib.org/3.3.0/api/_as_gen/matplotlib.pyplot.html) is a go-to plotting tool for Python.  It is fully operable with numpy arrays.\n",
    "\n",
    "```bash\n",
    "conda install matplotlib\n",
    "```"
   ]
  },
  {
   "cell_type": "code",
   "execution_count": null,
   "metadata": {},
   "outputs": [],
   "source": [
    "import matplotlib.pyplot as plt"
   ]
  },
  {
   "cell_type": "code",
   "execution_count": null,
   "metadata": {},
   "outputs": [],
   "source": [
    "# plot a single function\n",
    "x = np.linspace(-1,1,100)\n",
    "y = x * x\n",
    "plt.plot(x,y)\n",
    "plt.show()"
   ]
  },
  {
   "cell_type": "code",
   "execution_count": null,
   "metadata": {},
   "outputs": [],
   "source": [
    "# plot multiple functions\n",
    "x = np.linspace(-1,1,100)\n",
    "for n in range(5):\n",
    "    plt.plot(x,x**n, label=f\"x^{n}\")\n",
    "plt.legend()\n",
    "plt.xlabel(\"x\")\n",
    "plt.title(\"Simple polynomials\")\n",
    "plt.show()"
   ]
  },
  {
   "cell_type": "markdown",
   "metadata": {},
   "source": [
    "## CSV files, Pandas\n",
    "\n",
    "The `*.csv` extension is typically used to denote a \"comma seperated value\" file.  These types of files are often used to store arrays in human-readable plain text.\n",
    "\n",
    "Here's an example:\n",
    "\n",
    "```\n",
    "0, 1, 2, 3\n",
    "4, 5, 6, 7\n",
    "...\n",
    "```\n",
    "\n",
    "You can save numpy arrays to files using `np.savetxt()`"
   ]
  },
  {
   "cell_type": "code",
   "execution_count": null,
   "metadata": {},
   "outputs": [],
   "source": [
    "# generates example.csv\n",
    "n = 1000\n",
    "x = np.arange(4*n).reshape(-1,4) # -1: its value should be inferred from the other value '4'\n",
    "np.savetxt(\"example.csv\", x, fmt=\"%d\", delimiter=',')"
   ]
  },
  {
   "cell_type": "markdown",
   "metadata": {},
   "source": [
    "Files can be loaded using `np.loadtxt()`"
   ]
  },
  {
   "cell_type": "code",
   "execution_count": null,
   "metadata": {},
   "outputs": [],
   "source": [
    "y = np.loadtxt('example.csv', dtype=int, delimiter=',')\n",
    "y"
   ]
  },
  {
   "cell_type": "markdown",
   "metadata": {},
   "source": [
    "Often, scientific data has some meaning associated with numbers.  In this case, the `csv` file might have a header, and every row is a different data point.\n",
    "\n",
    "```\n",
    "temperature, density, width, length\n",
    "0, 1, 2, 3\n",
    "4, 5, 6, 7\n",
    "...\n",
    "```\n",
    "\n",
    "You can still load using numpy, but it is easy to loose track of what the different columns of the array mean.\n",
    "\n",
    "The solution for this sort of data is to use a [Pandas dataframe](https://pandas.pydata.org/)\n",
    "\n",
    "```\n",
    "conda install pandas\n",
    "```"
   ]
  },
  {
   "cell_type": "code",
   "execution_count": null,
   "metadata": {},
   "outputs": [],
   "source": [
    "import pandas as pd"
   ]
  },
  {
   "cell_type": "code",
   "execution_count": null,
   "metadata": {},
   "outputs": [],
   "source": [
    "data = pd.read_csv('example.csv', header=None, sep=',')\n",
    "data"
   ]
  },
  {
   "cell_type": "code",
   "execution_count": null,
   "metadata": {},
   "outputs": [],
   "source": [
    "# this will set the header identitites and save the file\n",
    "data = pd.read_csv('example.csv', header=None, names=[\"temperature\", \"density\", \"width\", \"length\"])\n",
    "data.to_csv(\"example2.csv\", index=False) # writes to csv with headers\n",
    "data"
   ]
  },
  {
   "cell_type": "code",
   "execution_count": null,
   "metadata": {},
   "outputs": [],
   "source": [
    "data2 = pd.read_csv(\"example2.csv\") # read csv with headers\n",
    "data2"
   ]
  },
  {
   "cell_type": "markdown",
   "metadata": {},
   "source": [
    "You can get columns of a dataframe by using the column label"
   ]
  },
  {
   "cell_type": "code",
   "execution_count": null,
   "metadata": {},
   "outputs": [],
   "source": [
    "data2['temperature']"
   ]
  },
  {
   "cell_type": "markdown",
   "metadata": {},
   "source": [
    "To get rows, use the `iloc` parameter:"
   ]
  },
  {
   "cell_type": "code",
   "execution_count": null,
   "metadata": {},
   "outputs": [],
   "source": [
    "data2.iloc[1:3]"
   ]
  },
  {
   "cell_type": "markdown",
   "metadata": {},
   "source": [
    "You can easily plot labeled columns"
   ]
  },
  {
   "cell_type": "code",
   "execution_count": null,
   "metadata": {},
   "outputs": [],
   "source": [
    "data.plot('temperature')\n",
    "plt.show()"
   ]
  },
  {
   "cell_type": "code",
   "execution_count": null,
   "metadata": {},
   "outputs": [],
   "source": []
  }
 ],
 "metadata": {
  "kernelspec": {
   "display_name": "Python (pycourse)",
   "language": "python",
   "name": "pycourse"
  },
  "language_info": {
   "codemirror_mode": {
    "name": "ipython",
    "version": 3
   },
   "file_extension": ".py",
   "mimetype": "text/x-python",
   "name": "python",
   "nbconvert_exporter": "python",
   "pygments_lexer": "ipython3",
   "version": "3.8.11"
  }
 },
 "nbformat": 4,
 "nbformat_minor": 4
}
